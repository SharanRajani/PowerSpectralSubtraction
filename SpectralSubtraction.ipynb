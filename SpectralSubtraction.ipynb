{
 "cells": [
  {
   "cell_type": "code",
   "execution_count": 19,
   "metadata": {},
   "outputs": [],
   "source": [
    "# Importing the Necessary Libraries\n",
    "import sys\n",
    "import numpy\n",
    "import matplotlib.pyplot as plt\n",
    "numpy.seterr(under='ignore')\n",
    "import scipy.io.wavfile\n",
    "import scipy.fftpack\n",
    "import scipy.signal\n",
    "import pylab\n",
    "\n",
    "# Generally, number of samplepoints = len(wav_data)\n",
    "def DrawFFT(sample_rate, wav_data, no_sample_points):\n",
    "   N = no_sample_points\n",
    "   # sample spacing\n",
    "   T = 1.0 / sample_rate\n",
    "   x = numpy.linspace(0.0, N*T, N)\n",
    "   # y = np.sin(50.0 * 2.0*np.pi*x) + 0.5*np.sin(80.0 * 2.0*np.pi*x)\n",
    "   y = wav_data[:N]\n",
    "   plt.plot(x,y)\n",
    "   yf = scipy.fftpack.fft(y)\n",
    "   xf = numpy.linspace(0.0, 1.0/(2.0*T), N/2)\n",
    "\n",
    "   # fig, ax = plt.subplots()\n",
    "#    plt.figure(figsize=(20,10))\n",
    "   plt.plot(xf, 2.0/N * numpy.abs(yf[:N//2]))\n",
    "\n",
    "#    plt.show()"
   ]
  },
  {
   "cell_type": "code",
   "execution_count": 20,
   "metadata": {},
   "outputs": [
    {
     "name": "stderr",
     "output_type": "stream",
     "text": [
      "/home/exacon02/anaconda3/lib/python3.6/site-packages/ipykernel_launcher.py:21: DeprecationWarning: object of type <class 'float'> cannot be safely interpreted as an integer.\n"
     ]
    },
    {
     "data": {
      "text/plain": [
       "'\\nNormalizing the .wav file\\n'"
      ]
     },
     "execution_count": 20,
     "metadata": {},
     "output_type": "execute_result"
    },
    {
     "data": {
      "image/png": "[encoded data removed]",
      "text/plain": [
       "<Figure size 432x288 with 1 Axes>"
      ]
     },
     "metadata": {},
     "output_type": "display_data"
    }
   ],
   "source": [
    "\"\"\" \n",
    "Reading the .wav file from which the noise is to be removed\n",
    "It returns \n",
    "1.The sampling rate which is a single value and\n",
    "2.Data from the wav file in the form of numpy array\n",
    "\"\"\" \n",
    "sample_rate, wav_data = scipy.io.wavfile.read('/home/exacon02/Documents/Sounds/SoundPlusNoise.wav')\n",
    "DrawFFT(sample_rate,wav_data,len(wav_data))\n",
    "# wav_data=wav_data[:,:1]\n",
    "# wav_data=wav_data.ravel()\n",
    "\"\"\"\n",
    "Normalizing the .wav file\n",
    "\"\"\"\n",
    "# wav_data = wav_data / float(numpy.iinfo(wav_data.dtype).max) "
   ]
  },
  {
   "cell_type": "code",
   "execution_count": 21,
   "metadata": {},
   "outputs": [
    {
     "data": {
      "text/plain": [
       "dtype('float32')"
      ]
     },
     "execution_count": 21,
     "metadata": {},
     "output_type": "execute_result"
    }
   ],
   "source": [
    "wav_data.dtype"
   ]
  },
  {
   "cell_type": "code",
   "execution_count": 22,
   "metadata": {},
   "outputs": [
    {
     "name": "stderr",
     "output_type": "stream",
     "text": [
      "/home/exacon02/anaconda3/lib/python3.6/site-packages/ipykernel_launcher.py:21: DeprecationWarning: object of type <class 'float'> cannot be safely interpreted as an integer.\n"
     ]
    },
    {
     "data": {
      "image/png": "[encoded data removed]",
      "text/plain": [
       "<Figure size 432x288 with 1 Axes>"
      ]
     },
     "metadata": {},
     "output_type": "display_data"
    }
   ],
   "source": [
    "\"\"\"\n",
    "Reading the .wavfile which only consist of noise to be removed.\n",
    "In our case the noise file and the file from which the noise is to be removed\n",
    "is the same since we want blank output.\n",
    "\"\"\"\n",
    "\n",
    "sample_rate, noise_data = scipy.io.wavfile.read('/home/exacon02/Documents/Sounds/Noise.wav')\n",
    "DrawFFT(sample_rate,noise_data,len(noise_data))\n",
    "# noise_data=noise_data[:,:1]\n",
    "# noise_data = noise_data / float(numpy.iinfo(noise_data.dtype).max)\n",
    "# smallsize = int(len(noise_data) / hopsize)\n",
    "\n",
    "hopsize = min(len(wav_data),len(noise_data))\n",
    "\"\"\"\n",
    "Reshaping the file so that it can be Windowed.\n",
    "\"\"\"\n",
    "\n",
    "# noise_data = noise_data[:hopsize*smallsize]\n",
    "noise_data = noise_data[:hopsize]\n",
    "wav_data=wav_data[:hopsize]\n",
    "\n",
    "noise_data = noise_data.reshape(1, hopsize) \n",
    "\n",
    "\"\"\"\n",
    "Applying Hamming Windowing Method\n",
    "\"\"\"\n",
    "window = scipy.signal.get_window(\"hamming\", hopsize)\n",
    "noise_data=numpy.copy(noise_data)\n",
    "noise_data *= window\n",
    "\n",
    "\"\"\"\n",
    "Taking FFT of the Windowed Noisy Data\n",
    "FFT obtained is a numpy array in which each element is in the compex form\n",
    "ie (x+iy)\n",
    "\"\"\"\n",
    "\n",
    "noise_ffts = scipy.fftpack.fft(noise_data, axis=1)"
   ]
  },
  {
   "cell_type": "code",
   "execution_count": 23,
   "metadata": {},
   "outputs": [],
   "source": [
    "\"\"\"\n",
    "Since each function is in complex form, we convert it into polar form(r,theta)\n",
    "and use only 'r'\n",
    "\"\"\"\n",
    "noise_power = noise_ffts_abs = numpy.abs(noise_ffts)\n",
    "\n",
    "# means_power=numpy.ravel(noise_power)\n",
    "\n",
    "\"\"\"\n",
    "Finding the power of the signal\n",
    "\"\"\"\n",
    "noise_power = noise_ffts_abs**2\n",
    "\n",
    "\n",
    "\n",
    "\"\"\"\n",
    "This mean is the noise estimate that will get subtracted \n",
    "\"\"\"\n",
    "# print(noise_power)\n",
    "\n",
    "# print(numpy.ravel(noise_power))\n",
    "\n",
    "means_power = numpy.mean(noise_power, axis=0)\n",
    "# print(means_power)"
   ]
  },
  {
   "cell_type": "code",
   "execution_count": 24,
   "metadata": {},
   "outputs": [],
   "source": [
    "\"\"\"\n",
    "Taking FFT of the signal from which the noise is to be removed and applying\n",
    "Hamming Windowing Function\n",
    "\"\"\"\n",
    "# wav_data *=window\n",
    "# wav_data=wav_data.reshape(1,hopsize)\n",
    "\n",
    "\n",
    "fft = scipy.fftpack.fft(wav_data*window)\n",
    "\n",
    "\n",
    "# takes the angle(in radian) of each tuple of x,y (x +iy)\n",
    "# for fft of original data \n",
    "theta = numpy.angle(fft)\n",
    "\n",
    "# some constant to not let the value of r go negative\n",
    "alpha = 5.0\n",
    "beta = 0.0005\n",
    "\n",
    "# creates an array of len(fft) with all elements as 0\n",
    "r = numpy.zeros(len(fft))  \n",
    "\n",
    "# subtracts power of 'noise data' from fft of original data\n",
    "cnt1=0\n",
    "cnt2=0\n",
    "for i in range(len(fft)):\n",
    "    r[i] = (abs(fft[i])**2 - alpha * means_power[i])\n",
    "    if r[i] < 0:\n",
    "#         cnt1=cnt1+1\n",
    "        r[i] = beta * means_power[i]\n",
    "    r[i] = numpy.sqrt(r[i]) # why only sqrt \n",
    "\n",
    "        \n",
    "\n",
    "# converts the complex number of recreated data (r,theta) to x +iy form\n",
    "reconstructed = ( r * numpy.cos(theta)\n",
    "    + r * numpy.sin(theta)*1j);\n",
    "\n",
    "\n",
    "# taking the inverse fft of the recreated data\n",
    "# in our case blank data should be obtained\n",
    "reconstructed_sig = scipy.fftpack.ifft(reconstructed )\n",
    "\n",
    "# extracting original data from the windowed data \n",
    "reconstructed_sig /= window\n",
    "\n",
    "# taking the real data of the data that was represented in complex form\n",
    "reconstructed_sig = numpy.real(reconstructed_sig)\n",
    "\n",
    "# the int16 format is what the libraries format of storing data of wav file is. \n",
    "big = numpy.int16(reconstructed_sig * numpy.iinfo(numpy.int16).max)\n",
    "\n",
    "# writing data to a wav file, sample rate is as of the orginal data\n",
    "# big = dtype format of the data \n",
    "scipy.io.wavfile.write(\"/home/exacon02/Documents/Sounds/Output.wav\", sample_rate, big)"
   ]
  }
 ],
 "metadata": {
  "kernelspec": {
   "display_name": "Python 3",
   "language": "python",
   "name": "python3"
  },
  "language_info": {
   "codemirror_mode": {
    "name": "ipython",
    "version": 3
   },
   "file_extension": ".py",
   "mimetype": "text/x-python",
   "name": "python",
   "nbconvert_exporter": "python",
   "pygments_lexer": "ipython3",
   "version": "3.6.4"
  }
 },
 "nbformat": 4,
 "nbformat_minor": 2
}
